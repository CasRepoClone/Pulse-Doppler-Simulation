{
 "cells": [
  {
   "cell_type": "markdown",
   "id": "b75e05ad",
   "metadata": {},
   "source": [
    "# AESA/PESA Radar Simulation Demo\n",
    "\n",
    "This demonstration simulates data from a **Doppler radar** and, eventually, a **PESA radar**.  \n",
    "The goal is to use machine learning to estimate:\n",
    "\n",
    "- **Location**\n",
    "- **Speed**\n",
    "- **Distance** of a target\n",
    "\n",
    "While this approach is slower than mathematical solutions, it aims to provide an *open-source* alternative that is transparent and accessible.\n",
    "\n",
    "## Purpose\n",
    "\n",
    "- Assist in developing small radar systems to protect tanks/IFVs.\n",
    "- Address threats like drones cost-effectively.\n",
    "- Enable processing with a small computer and radar installation.\n",
    "\n",
    "*Prototype development will follow later.*"
   ]
  },
  {
   "cell_type": "code",
   "execution_count": 1,
   "id": "ee393a25",
   "metadata": {},
   "outputs": [],
   "source": [
    "#!/usr/bin/env python3\n",
    "# Imports \n",
    "import numpy as np\n",
    "import matplotlib.pyplot as plt\n",
    "from dataclasses import dataclass\n",
    "import random, math\n",
    "from scipy.signal import hilbert\n",
    "from scipy.fft import fft, fftfreq"
   ]
  },
  {
   "cell_type": "markdown",
   "id": "09634774",
   "metadata": {},
   "source": [
    "\n",
    "we store our freuqencies within a hashmap as tuples to be able to more finely constrain wavelength"
   ]
  },
  {
   "cell_type": "code",
   "execution_count": 2,
   "id": "520cd9d9",
   "metadata": {},
   "outputs": [],
   "source": [
    "frequency_bands = {\n",
    "    \"L\":  (1e9, 2e9),        # 1 – 2 GHz\n",
    "    \"S\":  (2e9, 4e9),        # 2 – 4 GHz\n",
    "    \"C\":  (4e9, 8e9),        # 4 – 8 GHz\n",
    "    \"X\":  (8e9, 12e9),       # 8 – 12 GHz\n",
    "    \"Ku\": (12e9, 18e9),      # 12 – 18 GHz\n",
    "    \"Ka\": (26.5e9, 40e9)     # 26.5 – 40 GHz\n",
    "}\n",
    "\n",
    "def getFrequency(frequencyBand: str) -> float:\n",
    "    if frequencyBand in frequency_bands:\n",
    "        f_min, f_max = frequency_bands[frequencyBand]\n",
    "        return random.uniform(f_min, f_max)\n",
    "    else:\n",
    "        raise ValueError(\"unknown frequency band\")\n"
   ]
  },
  {
   "cell_type": "markdown",
   "id": "1a7ec047",
   "metadata": {},
   "source": [
    "#### Create our dataclasses for the radar\n",
    "- a basic target and radar MVP for our caluclations\n"
   ]
  },
  {
   "cell_type": "code",
   "execution_count": 3,
   "id": "ed202efb",
   "metadata": {},
   "outputs": [],
   "source": [
    "# --- Target struct---\n",
    "@dataclass\n",
    "class Target:\n",
    "    name: str             # Target name - e.g. \"SU-33\"\n",
    "    classification: str   # e.g. \"drone/aircraft/helicopter\"\n",
    "    position: np.ndarray  # [x, y, z] meters\n",
    "    rcs: float            # Radar cross-section (sigma)\n",
    "    velocity: np.ndarray = np.array([0.0, 0.0, 0.0])  # m/s\n",
    "\n",
    "# --- Radar struct---\n",
    "@dataclass\n",
    "class Radar:\n",
    "    name: str                # Radar name (brand)\n",
    "    position: np.ndarray       # Radar position [x, y, z]\n",
    "    frequency: float           # Radar frequency (Hz)\n",
    "    transmitted_power: float   # Transmit power (W)\n",
    "    antenna_gain: float        # Antenna gain (linear)\n",
    "\n",
    "    def get_elucidianDistance(self, target: Target) -> float:\n",
    "        \"\"\"Calculate elucid distance between radar and target using numpy linear algebra\"\"\"\n",
    "        return np.linalg.norm(target.position - self.position) \n",
    "    \n",
    "    def getTimeDelay(self, target: Target) -> float:\n",
    "        \"\"\"Calculate time delay for signal to travel to target and back (delta T)\"\"\"\n",
    "        c = 3e8\n",
    "        return 2 * self.get_elucidianDistance(target) / c\n",
    "    \n",
    "    def getRecievedPower(self, target: Target) -> float:\n",
    "        \"\"\"Calculate the received power using the radar equation\"\"\"\n",
    "        c = 3e8 # speed of light\n",
    "        Pt = self.transmitted_power\n",
    "        G = self.antenna_gain\n",
    "        lambda_ =  c / self.frequency\n",
    "        sigma = target.rcs\n",
    "        R = self.get_elucidianDistance(target)\n",
    "        L = 1 # System losses (assumed to be 1 for simplicity)\n",
    "        return (Pt * G**2 * lambda_**2 * sigma) / ((4 * math.pi)**3 * R**4 * L)\n",
    "    \n",
    "    def simulate_ping(self, target: Target, duration=1e-4, sample_rate=1e7, noise_power=1e-10):\n",
    "        t = np.arange(0, duration, 1/sample_rate)\n",
    "        c = 3e8\n",
    "        f_c = self.frequency\n",
    "        \n",
    "        # Line-of-sight velocity\n",
    "        R_vec = target.position - self.position\n",
    "        R_hat = R_vec / np.linalg.norm(R_vec)\n",
    "        v_los = np.dot(target.velocity, R_hat)  # m/s along line-of-sight\n",
    "        \n",
    "        # Doppler shift\n",
    "        lambda_ = c / f_c\n",
    "        f_D = 2 * v_los / lambda_\n",
    "        \n",
    "        # Time delay\n",
    "        delay = self.getTimeDelay(target)\n",
    "        \n",
    "        # Received power\n",
    "        Pr = self.getRecievedPower(target)\n",
    "        \n",
    "        # Define pulse\n",
    "        pulse_duration = 1e-6  # 1 µs pulse\n",
    "        echo = np.zeros_like(t)\n",
    "\n",
    "        # Convert delay and pulse duration to sample indices\n",
    "        delay_samples = int(round(delay * sample_rate))\n",
    "        pulse_samples = int(round(pulse_duration * sample_rate))\n",
    "\n",
    "        start = max(0, delay_samples - pulse_samples // 2)\n",
    "        end   = min(len(t), delay_samples + pulse_samples // 2)\n",
    "\n",
    "        # Apply pulse\n",
    "        echo[start:end] = np.sqrt(Pr)  # no high-frequency cosine\n",
    "\n",
    "        # Add Gaussian noise\n",
    "        noise = np.random.normal(0, np.sqrt(noise_power), size=t.shape)\n",
    "        received_signal = echo + noise\n",
    "\n",
    "        return t, received_signal\n",
    "\n"
   ]
  },
  {
   "cell_type": "markdown",
   "id": "17ece093",
   "metadata": {},
   "source": [
    "### Creating our radar and target \n",
    "#### Here we create our radar and target variables, we are using data referenced from wikipedia at \n",
    "*https://en.wikipedia.org/wiki/AN/SPY-1*"
   ]
  },
  {
   "cell_type": "code",
   "execution_count": 4,
   "id": "b0fcc3e6",
   "metadata": {},
   "outputs": [],
   "source": [
    "radar = Radar(\n",
    "    name=\"AN/SPY-1\",\n",
    "    position=np.array([0, 0, 0]),   # Radar at origin (x=0, y=0, z=0)\n",
    "    frequency=getFrequency(\"S\"),    # Use the key from frequency_bands\n",
    "    transmitted_power=4e6,          # 4 MW (peak power)\n",
    "    antenna_gain=10**(42/10)        # Convert dB to linear scale\n",
    ")\n",
    "\n",
    "target = Target(\n",
    "    name=\"SU-33\",\n",
    "    classification=\"aircraft\",\n",
    "    position=np.array([6000, 0, 0]),  # 6 km in front of origin (x=0, y=0, z=0)\n",
    "    rcs=10.0,                         # Example RCS in m² (fighter-sized target)\n",
    "    velocity=np.array([200, 0, 0])    # 200 m/s along x-axis \n",
    ")\n"
   ]
  },
  {
   "cell_type": "markdown",
   "id": "c7a9d611",
   "metadata": {},
   "source": [
    "# Basic PD range estimation (without doppler shift)"
   ]
  },
  {
   "cell_type": "code",
   "execution_count": 28,
   "id": "e81ded5a",
   "metadata": {},
   "outputs": [],
   "source": [
    "# Simulate radar ping\n",
    "\n",
    "pings = 10000\n",
    "PRI = 1e-3  # 1 ms between pings\n",
    "ping_times = []  # store absolute time of each ping\n",
    "current_time = 0  # start at t=0\n",
    "\n",
    "returns = []\n",
    "ranges = []\n",
    "envelopes = []\n",
    "# simulate time over multiple pings (add a pri)\n",
    "for _ in range(pings):\n",
    "    # Simulate ping\n",
    "    t, received_signal = radar.simulate_ping(\n",
    "        target,\n",
    "        duration=1e-4, \n",
    "        sample_rate=1e7, \n",
    "        noise_power=1e-10\n",
    "    )\n",
    "    returns.append((t, received_signal))\n",
    "\n",
    "    # Record the absolute ping time\n",
    "    ping_times.append(current_time)\n",
    "    current_time += PRI  # move time forward by PRI\n",
    "\n",
    "    # Update target position for next ping\n",
    "    target.position = target.position.astype(float) + target.velocity * PRI\n",
    "\n",
    "\n",
    "    # Compute envelope\n",
    "    analytic_signal = hilbert(received_signal)\n",
    "    envelope = np.abs(analytic_signal)\n",
    "\n",
    "    # Find peak after minimum range\n",
    "    c = 3e8\n",
    "    min_range = 1\n",
    "    min_idx = int((2 * min_range / c) * 1e7)\n",
    "    peak_idx = np.argmax(envelope[min_idx:]) + min_idx\n",
    "    t_peak = t[peak_idx]\n",
    "    target_range = c * t_peak / 2\n",
    "\n",
    "    envelopes.append(envelope)\n",
    "    ranges.append(target_range)\n"
   ]
  },
  {
   "cell_type": "markdown",
   "id": "8c5be0f7",
   "metadata": {},
   "source": [
    "## Here we will plot the data using matplotlib \n",
    "#### Please remember to reset target and radar after testing as target distance will become uncanny"
   ]
  },
  {
   "cell_type": "code",
   "execution_count": 34,
   "id": "d44df2a2",
   "metadata": {},
   "outputs": [
    {
     "name": "stdout",
     "output_type": "stream",
     "text": [
      "final real target position: [10226.00000001     0.             0.        ]\n",
      "final target position accuracy: 0.621963070890126 m\n",
      "Estimated radial speed: 214.52 m/s\n",
      "Real target velocity: [200   0   0]\n",
      "innacuracy % is: 0.621963070890126\n"
     ]
    },
    {
     "data": {
      "image/png": "[encoded data removed]",
      "text/plain": [
       "<Figure size 1000x400 with 1 Axes>"
      ]
     },
     "metadata": {},
     "output_type": "display_data"
    }
   ],
   "source": [
    "# calculate absolute error for x,y,z \n",
    "ranges_m = np.array(ranges)\n",
    "ping_times = np.array(ping_times)\n",
    "\n",
    "radial_velocity = (ranges_m[-1] - ranges_m[0]) / (ping_times[-1] - ping_times[0])\n",
    "ranges_m = [c * t_peak / 2 for t_peak in ranges]  # in meters\n",
    "\n",
    "# --- Position error (x-component only) ---\n",
    "pos_error = abs(target.position[0] - target_range)                 # absolute error in meters\n",
    "pos_error_percent = pos_error / abs(target_range) * 100            # percent error\n",
    "\n",
    "# --- Velocity error (x-component only) ---\n",
    "vel_error = abs(target.velocity[0] - radial_velocity)              # absolute error in m/s\n",
    "vel_error_percent = vel_error / abs(target.velocity[0]) * 100      # percent error\n",
    "\n",
    "print(f\"final real target position: {target.position}\")\n",
    "print(f\"final target position accuracy: {inaccuracy_pos} m\")\n",
    "\n",
    "print(f\"Estimated radial speed: {radial_velocity:.2f} m/s\")\n",
    "print(f\"Real target velocity: {target.velocity}\")\n",
    "print(f\"innacuracy % is: {inaccuracy_pos}\")\n",
    "\n",
    "\n",
    "# Plot the envelope and mark estimated range\n",
    "plt.figure(figsize=(10,4))\n",
    "plt.plot(t*1e6, mean_envelope, label='Envelope')\n",
    "plt.axvline(t_peak*1e6, color='r', linestyle='--', \n",
    "            label=f'Estimated Range: {target_range:.2f} m')\n",
    "plt.xlabel(\"Time (µs)\")\n",
    "plt.ylabel(\"Envelope Amplitude\")\n",
    "plt.title(\"Envelope of Simulated Radar Ping with Estimated Range\")\n",
    "plt.grid(True)\n",
    "plt.legend()\n",
    "plt.show()"
   ]
  }
 ],
 "metadata": {
  "kernelspec": {
   "display_name": ".venv",
   "language": "python",
   "name": "python3"
  },
  "language_info": {
   "codemirror_mode": {
    "name": "ipython",
    "version": 3
   },
   "file_extension": ".py",
   "mimetype": "text/x-python",
   "name": "python",
   "nbconvert_exporter": "python",
   "pygments_lexer": "ipython3",
   "version": "3.10.0"
  }
 },
 "nbformat": 4,
 "nbformat_minor": 5
}
